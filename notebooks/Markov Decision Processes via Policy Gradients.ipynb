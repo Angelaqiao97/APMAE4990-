{
 "cells": [
  {
   "cell_type": "markdown",
   "metadata": {},
   "source": [
    "# Problem Formulation"
   ]
  },
  {
   "cell_type": "markdown",
   "metadata": {},
   "source": [
    "We are given an unidrected graph starting at position $0$ and we wish to reach our goal at position $7$. Here is a plot of how it looks"
   ]
  },
  {
   "cell_type": "code",
   "execution_count": null,
   "metadata": {
    "collapsed": false
   },
   "outputs": [],
   "source": []
  },
  {
   "cell_type": "markdown",
   "metadata": {},
   "source": [
    "We thus define a negative reward when we have a \"boundary\" and can't get from one node to another, and define a reward of 100 when we reach $7$"
   ]
  },
  {
   "cell_type": "markdown",
   "metadata": {},
   "source": [
    "# Markov Decision Processeses via Policy Gradients"
   ]
  },
  {
   "cell_type": "markdown",
   "metadata": {},
   "source": [
    "### Background\n",
    "Recall that our goal is to find a sequence of actions, denote by policty $\\pi$ to maximize the total reward: $$\\mathbb{E}[R \\lvert \\pi] = \\int p(\\tau \\lvert \\pi) R(\\tau)$$\n",
    "    \n",
    " where $ \\tau$ is the space of all *paths*, ie\n",
    " $$ \\tau = (a_0,s_0,r_0,a_1,s_1,r_1,\\cdots,a_t,s_t,r_t)$$\n",
    " \n",
    " \n",
    "Now from the **Markov property** we have $$p(\\tau \\lvert \\pi) = \\prod_{t=1}^{T-1} p(s_{t+1}\\lvert s_t,a_t) \\pi (a_t \\lvert s_t).$$\n",
    "\n",
    "We will assume that $$\\pi(a_t \\lvert s_t)$$ is some stochastic policy, which has a form of\n",
    "\n",
    "$$ \\pi (a_t \\lvert s_t) = \\frac{e^{-\\theta_{s_t,s_{t-1}}}}{\\sum_k e^{-\\theta_{s_t,s_k}}}$$\n",
    "** The policy gradient trick: **\n",
    "\n",
    "Observe that\n",
    "$$\n",
    "\\begin{align}\n",
    "\\nabla_{\\theta} \\mathbb{E}[R \\lvert \\pi] &= \\int \\nabla_{\\theta} p (\\tau \\lvert \\pi) R(\\tau) \\\\\n",
    "&= \\int \\frac{\\nabla_{\\theta} p(\\tau \\lvert \\pi)}{p(\\tau \\lvert \\pi)} p(\\tau \\lvert \\pi) R(\\tau)\\\\\n",
    "&= \\mathbb{E}_p\\left[ \\nabla_{\\theta} \\log p(\\tau \\lvert \\pi) R(\\tau)\\right]\n",
    "\\end{align}\n",
    "$$\n",
    "\n",
    "In other words, we can write this as an expectation once again, and therefore use samples from our data! But even more importantly:\n",
    "\n",
    "$$\n",
    "\\begin{align}\n",
    "\\log p(\\tau \\lvert \\pi) &= \\log \\prod_{t=1}^{T-1} p(s_{t+1}\\lvert s_t,a_t) \\pi (a_t \\lvert s_t)\\\\\n",
    "&=\\sum_{t=1}^{T-1} \\log p(s_{t+1} \\lvert s_t,a_t) + \\sum \\log \\pi(a_t \\lvert s_t)\n",
    "\\end{align}\n",
    "$$\n",
    "\n",
    "The amazing thing here is that while our policy depends on our choice of $\\theta_{s_{t},s_{t-1}}$, $p(s_{t+1} \\lvert s_t,a_t)$ does not! \n",
    "\n",
    "\n",
    "## Our setting\n",
    "\n",
    "In our case, we have 7 nodes labeled $k=0,1,\\cdots,7$ and we make the softmax prior:\n",
    "\n",
    "$$  \\pi (k \\lvert m ) = \\frac{e^{-\\theta_{k,m}}}{\\sum_k e^{-\\theta_{k,m}}},$$\n",
    "which is the transition probability of going from node m to node k. How do we define the rewards?"
   ]
  },
  {
   "cell_type": "code",
   "execution_count": 14,
   "metadata": {
    "collapsed": false
   },
   "outputs": [
    {
     "data": {
      "image/png": "[encoded data removed]",
      "text/plain": [
       "<matplotlib.figure.Figure at 0x11944b320>"
      ]
     },
     "metadata": {},
     "output_type": "display_data"
    }
   ],
   "source": [
    "import networkx as nx\n",
    "points_list = [(0,1), (1,5), (5,6), (5,4), (1,2), (2,3), (2,7)]\n",
    "G=nx.Graph()\n",
    "G.add_edges_from(points_list)\n",
    "pos = nx.spring_layout(G)\n",
    "nx.draw_networkx_nodes(G,pos)\n",
    "nx.draw_networkx_edges(G,pos)\n",
    "nx.draw_networkx_labels(G,pos)\n",
    "plt.show()"
   ]
  },
  {
   "cell_type": "code",
   "execution_count": 15,
   "metadata": {
    "collapsed": false
   },
   "outputs": [
    {
     "data": {
      "text/plain": [
       "matrix([[  -1.,    0.,   -1.,   -1.,   -1.,   -1.,   -1.,   -1.],\n",
       "        [   0.,   -1.,    0.,   -1.,   -1.,    0.,   -1.,   -1.],\n",
       "        [  -1.,    0.,   -1.,    0.,   -1.,   -1.,   -1.,  100.],\n",
       "        [  -1.,   -1.,    0.,   -1.,   -1.,   -1.,   -1.,   -1.],\n",
       "        [  -1.,   -1.,   -1.,   -1.,   -1.,    0.,   -1.,   -1.],\n",
       "        [  -1.,    0.,   -1.,   -1.,    0.,   -1.,    0.,   -1.],\n",
       "        [  -1.,   -1.,   -1.,   -1.,   -1.,    0.,   -1.,   -1.],\n",
       "        [  -1.,   -1.,    0.,   -1.,   -1.,   -1.,   -1.,  100.]])"
      ]
     },
     "execution_count": 15,
     "metadata": {},
     "output_type": "execute_result"
    }
   ],
   "source": [
    "R"
   ]
  },
  {
   "cell_type": "code",
   "execution_count": null,
   "metadata": {
    "collapsed": true
   },
   "outputs": [],
   "source": [
    "import numpy as np\n",
    "import pylab as plt\n",
    "%matplotlib inline\n",
    "# map cell to cell, add circular cell to goal point\n",
    "points_list = [(0,1), (1,5), (5,6), (5,4), (1,2), (2,3), (2,7)]\n",
    "goal = 7\n",
    "\n",
    "import networkx as nx\n",
    "G=nx.Graph()\n",
    "G.add_edges_from(points_list)\n",
    "pos = nx.spring_layout(G)\n",
    "nx.draw_networkx_nodes(G,pos)\n",
    "nx.draw_networkx_edges(G,pos)\n",
    "nx.draw_networkx_labels(G,pos)\n",
    "plt.show()\n",
    "\n",
    "\n",
    "# how many points in graph? x points\n",
    "MATRIX_SIZE = 8\n",
    "\n",
    "# create matrix x*y\n",
    "R = np.matrix(np.ones(shape=(MATRIX_SIZE, MATRIX_SIZE)))\n",
    "R *= -1\n",
    "\n",
    "# assign zeros to paths and 100 to goal-reaching point\n",
    "for point in points_list:\n",
    "    print(point)\n",
    "    if point[1] == goal:\n",
    "        R[point] = 100\n",
    "    else:\n",
    "        R[point] = 0\n",
    "\n",
    "    if point[0] == goal:\n",
    "        R[point[::-1]] = 100\n",
    "    else:\n",
    "        # reverse of point\n",
    "        R[point[::-1]]= 0\n",
    "\n",
    "# add goal point round trip\n",
    "R[goal,goal]= 100\n",
    "\n",
    "R"
   ]
  },
  {
   "cell_type": "markdown",
   "metadata": {},
   "source": [
    "Thus we see that we have a $-1$ for each direction which has no connection, a $0$ when it does, and $100$ when we reach the goal of $7$\n",
    "\n",
    "### Step 1: Initializiation\n",
    "\n",
    "\n",
    "We assume that we can go in any direction, so we assume that $\\theta_{km} \\equiv 0$, giving equal probability to each direction.\n"
   ]
  },
  {
   "cell_type": "code",
   "execution_count": 18,
   "metadata": {
    "collapsed": false
   },
   "outputs": [
    {
     "data": {
      "text/plain": [
       "matrix([[ 0.,  0.,  0.,  0.,  0.,  0.,  0.,  0.],\n",
       "        [ 0.,  0.,  0.,  0.,  0.,  0.,  0.,  0.],\n",
       "        [ 0.,  0.,  0.,  0.,  0.,  0.,  0.,  0.],\n",
       "        [ 0.,  0.,  0.,  0.,  0.,  0.,  0.,  0.],\n",
       "        [ 0.,  0.,  0.,  0.,  0.,  0.,  0.,  0.],\n",
       "        [ 0.,  0.,  0.,  0.,  0.,  0.,  0.,  0.],\n",
       "        [ 0.,  0.,  0.,  0.,  0.,  0.,  0.,  0.],\n",
       "        [ 0.,  0.,  0.,  0.,  0.,  0.,  0.,  0.]])"
      ]
     },
     "execution_count": 18,
     "metadata": {},
     "output_type": "execute_result"
    }
   ],
   "source": [
    "# Initialize Weights\n",
    "theta = np.matrix(np.zeros(shape=(8,8)))\n",
    "theta"
   ]
  },
  {
   "cell_type": "markdown",
   "metadata": {},
   "source": [
    "We define the corresponding probabilites based on $\\theta$, which, as expected are uniform across possible paths\n"
   ]
  },
  {
   "cell_type": "code",
   "execution_count": 21,
   "metadata": {
    "collapsed": false
   },
   "outputs": [
    {
     "data": {
      "text/plain": [
       "matrix([[ 0.125,  0.125,  0.125,  0.125,  0.125,  0.125,  0.125,  0.125],\n",
       "        [ 0.125,  0.125,  0.125,  0.125,  0.125,  0.125,  0.125,  0.125],\n",
       "        [ 0.125,  0.125,  0.125,  0.125,  0.125,  0.125,  0.125,  0.125],\n",
       "        [ 0.125,  0.125,  0.125,  0.125,  0.125,  0.125,  0.125,  0.125],\n",
       "        [ 0.125,  0.125,  0.125,  0.125,  0.125,  0.125,  0.125,  0.125],\n",
       "        [ 0.125,  0.125,  0.125,  0.125,  0.125,  0.125,  0.125,  0.125],\n",
       "        [ 0.125,  0.125,  0.125,  0.125,  0.125,  0.125,  0.125,  0.125],\n",
       "        [ 0.125,  0.125,  0.125,  0.125,  0.125,  0.125,  0.125,  0.125]])"
      ]
     },
     "execution_count": 21,
     "metadata": {},
     "output_type": "execute_result"
    }
   ],
   "source": [
    "# Initialize Weights to be learned\n",
    "for k in range(8):\n",
    "    W[k]=softmax(theta[k].squeeze())\n",
    "W"
   ]
  },
  {
   "cell_type": "markdown",
   "metadata": {},
   "source": [
    "### Step 2: Choose a stochastic policy"
   ]
  },
  {
   "cell_type": "markdown",
   "metadata": {},
   "source": [
    "In our setting if are at node $k(t)$ at time t, then $$a_{k(t)} \\sim \\textrm{Mult}\\left(\\pi_{0k},\\cdots,\\pi_{7k}\\right)$$"
   ]
  },
  {
   "cell_type": "markdown",
   "metadata": {},
   "source": [
    "We do this in Python via:"
   ]
  },
  {
   "cell_type": "code",
   "execution_count": 24,
   "metadata": {
    "collapsed": true
   },
   "outputs": [],
   "source": [
    "s_next = np.where(np.random.multinomial(1, np.array(W[s_current,:]).squeeze(), size=1)==1)[1][0]"
   ]
  },
  {
   "cell_type": "markdown",
   "metadata": {},
   "source": [
    "### Step 2: Oberve reward and update parameters in *good* directions"
   ]
  },
  {
   "cell_type": "markdown",
   "metadata": {},
   "source": [
    "Thus we want to find the best path. At each observation we want to **gradient descent** in the direction of best gradient:\n",
    "\n",
    "    ie. \n",
    "   $$ \\theta_{km}^t= \\theta_{km}^{t-1} - R(t) \\nabla_{\\theta} \\log \\pi (k \\lvert m) $$\n",
    "   \n",
    "For this we do a simple computation:\n",
    "\n",
    "$$ \\log \\pi (k \\lvert m) = - \\theta_{km} - \\log \\left( \\sum_l e^{-\\theta_{lm}}\\right).$$\n",
    "\n",
    "\n",
    "Thus \n",
    "$$ \\nabla_{\\theta_{km}} \\log \\pi (k \\lvert m) = \\pi(k \\lvert m) - 1,$$\n",
    "\n",
    "a relative simple equation!\n",
    "\n",
    "\n",
    "We implement it as `gradient` below:"
   ]
  },
  {
   "cell_type": "code",
   "execution_count": 22,
   "metadata": {
    "collapsed": true
   },
   "outputs": [],
   "source": [
    "def gradient(k,m,alpha=0.1):\n",
    "    #denom = sum([np.exp(-theta[k,l]) for l in range(8)])\n",
    "    return R[k,m]*(W[k,m]-1)"
   ]
  },
  {
   "cell_type": "code",
   "execution_count": 23,
   "metadata": {
    "collapsed": true
   },
   "outputs": [],
   "source": [
    "def softmax(t):\n",
    "    return np.exp(-t)/np.sum(np.exp(-t))"
   ]
  },
  {
   "cell_type": "markdown",
   "metadata": {},
   "source": [
    "We see here that we want to nudge the parameters in the *good* directions - ie. the one with highest payoffs. This is very \n",
    "analogous to importance sampling"
   ]
  },
  {
   "cell_type": "markdown",
   "metadata": {},
   "source": [
    "## Step 3: Keep on iterating and learning"
   ]
  },
  {
   "cell_type": "markdown",
   "metadata": {},
   "source": [
    "We now show the full code below which initializes uniform weights then does 100 iterations of exploring the graph. The \n",
    "shortest path is then recorded as the \"best\" path and plotted below."
   ]
  },
  {
   "cell_type": "code",
   "execution_count": 27,
   "metadata": {
    "collapsed": false
   },
   "outputs": [
    {
     "name": "stdout",
     "output_type": "stream",
     "text": [
      "Found best path [(0, 1), (1, 2), (2, 7)] after 6 simulations\n"
     ]
    },
    {
     "data": {
      "image/png": "[encoded data removed]",
      "text/plain": [
       "<matplotlib.figure.Figure at 0x1199902b0>"
      ]
     },
     "metadata": {},
     "output_type": "display_data"
    }
   ],
   "source": [
    "s_current = 0\n",
    "# Initialize Weights\n",
    "W = np.matrix(np.ones(shape=(8,8)))\n",
    "#W *= 1/8\n",
    "\n",
    "# Initialize Weights\n",
    "theta = np.matrix(np.zeros(shape=(8,8)))\n",
    "\n",
    "# Initialize Weights to be learned\n",
    "for k in range(8):\n",
    "    W[k]=softmax(theta[k].squeeze())\n",
    "    \n",
    "    \n",
    "    \n",
    "best_path=[]\n",
    "best_length=1000\n",
    "found_after = 0\n",
    "for simulation in range(100):\n",
    "    s_current = 0\n",
    "    # Initialize Weights\n",
    "    theta = np.matrix(np.zeros(shape=(8,8)))\n",
    "\n",
    "    # Initialize Weights to be learned\n",
    "    for k in range(8):\n",
    "        W[k]=softmax(theta[k].squeeze())\n",
    "    path=[]\n",
    "    for t in range(10):\n",
    "        reward=-1\n",
    "        while reward < 0:\n",
    "            s_next = np.where(np.random.multinomial(1, np.array(W[s_current,:]).squeeze(), size=1)==1)[1][0]\n",
    "            reward = R[s_current,s_next]\n",
    "\n",
    "        path.append((s_current,s_next))\n",
    "        if reward == 100:\n",
    "            if len(path) < best_length:\n",
    "                best_path = path\n",
    "                best_length=len(best_path)\n",
    "                found_after = simulation\n",
    "                break\n",
    "        #print (s_current,s_next,R[s_current,s_next])\n",
    "\n",
    "        reward_next = R[s_current,s_next]\n",
    "        #print (s_next)\n",
    "        for m in range(8):\n",
    "            theta[s_current,m] = theta[s_current,m] + gradient(s_current,m,alpha=0.01)\n",
    "        for k in range(8):\n",
    "            W[k]=softmax(theta[k].squeeze())\n",
    "        s_current = s_next\n",
    "    \n",
    "print (\"Found best path \" + str(best_path) + \" after \" + str(found_after) + \" simulations\")\n",
    "\n",
    "\n",
    "\n",
    "# map cell to cell, add circular cell to goal point\n",
    "points_list = best_path\n",
    "goal = 7\n",
    "\n",
    "\n",
    "G=nx.Graph()\n",
    "G.add_edges_from(points_list)\n",
    "pos = nx.spring_layout(G)\n",
    "nx.draw_networkx_nodes(G,pos)\n",
    "nx.draw_networkx_edges(G,pos)\n",
    "nx.draw_networkx_labels(G,pos)\n",
    "plt.show()\n",
    "\n"
   ]
  }
 ],
 "metadata": {
  "kernelspec": {
   "display_name": "Python 3",
   "language": "python",
   "name": "python3"
  },
  "language_info": {
   "codemirror_mode": {
    "name": "ipython",
    "version": 3
   },
   "file_extension": ".py",
   "mimetype": "text/x-python",
   "name": "python",
   "nbconvert_exporter": "python",
   "pygments_lexer": "ipython3",
   "version": "3.6.0"
  }
 },
 "nbformat": 4,
 "nbformat_minor": 2
}
