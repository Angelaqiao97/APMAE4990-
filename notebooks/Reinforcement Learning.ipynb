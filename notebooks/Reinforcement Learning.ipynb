{
 "cells": [
  {
   "cell_type": "code",
   "execution_count": 2,
   "metadata": {
    "collapsed": false
   },
   "outputs": [
    {
     "data": {
      "image/png": "[encoded data removed]",
      "text/plain": [
       "<matplotlib.figure.Figure at 0x1118e3dd8>"
      ]
     },
     "metadata": {},
     "output_type": "display_data"
    },
    {
     "name": "stdout",
     "output_type": "stream",
     "text": [
      "(0, 1)\n",
      "(1, 5)\n",
      "(5, 6)\n",
      "(5, 4)\n",
      "(1, 2)\n",
      "(2, 3)\n",
      "(2, 7)\n"
     ]
    },
    {
     "data": {
      "text/plain": [
       "matrix([[  -1.,    0.,   -1.,   -1.,   -1.,   -1.,   -1.,   -1.],\n",
       "        [   0.,   -1.,    0.,   -1.,   -1.,    0.,   -1.,   -1.],\n",
       "        [  -1.,    0.,   -1.,    0.,   -1.,   -1.,   -1.,  100.],\n",
       "        [  -1.,   -1.,    0.,   -1.,   -1.,   -1.,   -1.,   -1.],\n",
       "        [  -1.,   -1.,   -1.,   -1.,   -1.,    0.,   -1.,   -1.],\n",
       "        [  -1.,    0.,   -1.,   -1.,    0.,   -1.,    0.,   -1.],\n",
       "        [  -1.,   -1.,   -1.,   -1.,   -1.,    0.,   -1.,   -1.],\n",
       "        [  -1.,   -1.,    0.,   -1.,   -1.,   -1.,   -1.,  100.]])"
      ]
     },
     "execution_count": 2,
     "metadata": {},
     "output_type": "execute_result"
    }
   ],
   "source": [
    "import numpy as np\n",
    "import pylab as plt\n",
    "%matplotlib inline\n",
    "# map cell to cell, add circular cell to goal point\n",
    "points_list = [(0,1), (1,5), (5,6), (5,4), (1,2), (2,3), (2,7)]\n",
    "goal = 7\n",
    "\n",
    "import networkx as nx\n",
    "G=nx.Graph()\n",
    "G.add_edges_from(points_list)\n",
    "pos = nx.spring_layout(G)\n",
    "nx.draw_networkx_nodes(G,pos)\n",
    "nx.draw_networkx_edges(G,pos)\n",
    "nx.draw_networkx_labels(G,pos)\n",
    "plt.show()\n",
    "\n",
    "\n",
    "# how many points in graph? x points\n",
    "MATRIX_SIZE = 8\n",
    "\n",
    "# create matrix x*y\n",
    "R = np.matrix(np.ones(shape=(MATRIX_SIZE, MATRIX_SIZE)))\n",
    "R *= -1\n",
    "\n",
    "# assign zeros to paths and 100 to goal-reaching point\n",
    "for point in points_list:\n",
    "    print(point)\n",
    "    if point[1] == goal:\n",
    "        R[point] = 100\n",
    "    else:\n",
    "        R[point] = 0\n",
    "\n",
    "    if point[0] == goal:\n",
    "        R[point[::-1]] = 100\n",
    "    else:\n",
    "        # reverse of point\n",
    "        R[point[::-1]]= 0\n",
    "\n",
    "# add goal point round trip\n",
    "R[goal,goal]= 100\n",
    "\n",
    "R"
   ]
  },
  {
   "cell_type": "code",
   "execution_count": 3,
   "metadata": {
    "collapsed": true
   },
   "outputs": [],
   "source": [
    "def softmax(t):\n",
    "    return np.exp(-t)/np.sum(np.exp(-t))"
   ]
  },
  {
   "cell_type": "code",
   "execution_count": 4,
   "metadata": {
    "collapsed": true
   },
   "outputs": [],
   "source": [
    "def gradient(k,m,alpha=0.1):\n",
    "    #denom = sum([np.exp(-theta[k,l]) for l in range(8)])\n",
    "    return R[k,m]*(W[k,m]-1)"
   ]
  },
  {
   "cell_type": "code",
   "execution_count": null,
   "metadata": {
    "collapsed": true
   },
   "outputs": [],
   "source": [
    "s_current = 0\n",
    "# Initialize Weights\n",
    "theta = np.matrix(np.zeros(shape=(8,8)))\n",
    "\n",
    "# Initialize Weights to be learned\n",
    "for k in range(8):\n",
    "    W[k]=softmax(theta[k].squeeze())\n",
    "    \n",
    "    \n",
    "    \n",
    "best_path=[]\n",
    "best_length=1000\n",
    "for simulation in range(100):\n",
    "    s_current = 0\n",
    "    # Initialize Weights\n",
    "    theta = np.matrix(np.zeros(shape=(8,8)))\n",
    "\n",
    "    # Initialize Weights to be learned\n",
    "    for k in range(8):\n",
    "        W[k]=softmax(theta[k].squeeze())\n",
    "    path=[]\n",
    "    for t in range(10):\n",
    "        reward=-1\n",
    "        while reward < 0:\n",
    "            s_next = np.where(np.random.multinomial(1, np.array(W[s_current,:]).squeeze(), size=1)==1)[1][0]\n",
    "            reward = R[s_current,s_next]\n",
    "\n",
    "        path.append((s_current,s_next))\n",
    "        if reward == 100:\n",
    "            if len(path) < best_length:\n",
    "                best_path = path\n",
    "                best_length=len(best_path)\n",
    "                break\n",
    "        #print (s_current,s_next,R[s_current,s_next])\n",
    "\n",
    "        reward_next = R[s_current,s_next]\n",
    "        #print (s_next)\n",
    "        for m in range(8):\n",
    "            theta[s_current,m] = theta[s_current,m] + gradient(s_current,m,alpha=0.01)\n",
    "        for k in range(8):\n",
    "            W[k]=softmax(theta[k].squeeze())\n",
    "        s_current = s_next\n",
    "    \n",
    "print (best_path)"
   ]
  }
 ],
 "metadata": {
  "kernelspec": {
   "display_name": "Python 3",
   "language": "python",
   "name": "python3"
  },
  "language_info": {
   "codemirror_mode": {
    "name": "ipython",
    "version": 3
   },
   "file_extension": ".py",
   "mimetype": "text/x-python",
   "name": "python",
   "nbconvert_exporter": "python",
   "pygments_lexer": "ipython3",
   "version": "3.6.0"
  }
 },
 "nbformat": 4,
 "nbformat_minor": 2
}
